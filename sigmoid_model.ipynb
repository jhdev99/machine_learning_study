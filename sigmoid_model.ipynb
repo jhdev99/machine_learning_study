{
 "cells": [
  {
   "cell_type": "markdown",
   "metadata": {},
   "source": [
    "# Neural Network"
   ]
  },
  {
   "cell_type": "code",
   "execution_count": 1,
   "metadata": {},
   "outputs": [],
   "source": [
    "import os\n",
    "import struct\n",
    "import numpy as np\n",
    "import matplotlib.pyplot as plt\n",
    "import pickle"
   ]
  },
  {
   "cell_type": "code",
   "execution_count": 2,
   "metadata": {},
   "outputs": [
    {
     "name": "stdout",
     "output_type": "stream",
     "text": [
      "training samples : 60000, columns: 784\n",
      "testing samples  : 10000, columns: 784\n"
     ]
    }
   ],
   "source": [
    "def load_mnist(path, kind='train'):\n",
    "    labels_path = os.path.join(path, '%s-labels.idx1-ubyte' %kind)\n",
    "    images_path = os.path.join(path, '%s-images.idx3-ubyte' %kind)\n",
    "    \n",
    "    with open(labels_path, 'rb') as lbpath:\n",
    "        magic, n = struct.unpack('>II', lbpath.read(8))\n",
    "        labels = np.fromfile(lbpath, dtype=np.uint8)\n",
    "        \n",
    "    with open(images_path, 'rb') as imgpath:\n",
    "        magic, num, rows, cols = struct.unpack('>IIII', imgpath.read(16))\n",
    "        images = np.fromfile(imgpath, dtype=np.uint8).reshape(len(labels), 784)\n",
    "    \n",
    "    return images, labels\n",
    "    \n",
    "X_train, y_train = load_mnist('D:\\\\Workspace', kind='train')\n",
    "print('training samples : %d, columns: %d' %(X_train.shape[0], X_train.shape[1]))\n",
    "\n",
    "X_test, y_test = load_mnist('D:\\\\Workspace', kind='t10k')\n",
    "print('testing samples  : %d, columns: %d' %(X_test.shape[0], X_test.shape[1]))"
   ]
  },
  {
   "cell_type": "code",
   "execution_count": 3,
   "metadata": {},
   "outputs": [
    {
     "data": {
      "image/png": "[encoded data removed]",
      "text/plain": [
       "<Figure size 432x288 with 10 Axes>"
      ]
     },
     "metadata": {},
     "output_type": "display_data"
    }
   ],
   "source": [
    "fig, ax = plt.subplots(nrows=2, ncols=5, sharex=True, sharey=True)\n",
    "ax = ax.ravel()\n",
    "for i in range(10):\n",
    "    img = X_train[y_train==i][0].reshape(28,28)\n",
    "    ax[i].imshow(img, cmap='Greys', interpolation='nearest')\n",
    "\n",
    "ax[0].set_xticks([])\n",
    "ax[0].set_yticks([])\n",
    "plt.tight_layout()\n",
    "plt.show()"
   ]
  },
  {
   "cell_type": "code",
   "execution_count": 4,
   "metadata": {},
   "outputs": [],
   "source": [
    "def sigmoid(x):\n",
    "    return 1/(1+np.exp(-x))\n",
    "\n",
    "class Model:\n",
    "    def __init__(self, n_features: int, n_outputs: int, epochs: int, n_hiddenlayers: list=[30], minibatches=1, alpha_=0.0, eta_=1/1024, lambda_=1/8, decrease_const=1/65536, shuffle=True, random_state=None):\n",
    "        np.random.seed(random_state)\n",
    "        self.layers = [n_features] + n_hiddenlayers + [n_outputs]\n",
    "        self.weights = []\n",
    "        self.cost_ = []\n",
    "        self.epochs = epochs\n",
    "        self.minibatches = minibatches\n",
    "        self.alpha_ = alpha_\n",
    "        self.eta_ = eta_\n",
    "        self.lambda_ = lambda_\n",
    "        self.decrease_const = decrease_const\n",
    "        self.n_features, self.n_outputs = n_features, n_outputs\n",
    "        self.shuffle = shuffle\n",
    "        temp = n_features + 1\n",
    "        for n_units in n_hiddenlayers:\n",
    "            self.weights.append(np.random.uniform(-1.0, 1.0, size=n_units*temp).reshape(n_units, temp))\n",
    "            temp = n_units + 1\n",
    "        self.weights.append(np.random.uniform(-1.0, 1.0, size=n_outputs*temp).reshape(n_outputs, temp))\n",
    "    def _get_encoded_label(self, y: np.ndarray) -> np.ndarray:\n",
    "        assert(0 <= y.all() < self.n_outputs)\n",
    "        encoded = np.zeros((y.shape[0], self.n_outputs))\n",
    "        for idx, val in enumerate(y):\n",
    "            encoded[idx,val] = 1.0\n",
    "        return encoded\n",
    "    def _add_bias_units(self, x: np.ndarray):\n",
    "        x_new = np.ones((x.shape[0]+1, x.shape[1]))\n",
    "        x_new[1:,:] = x\n",
    "        return x_new\n",
    "    def _get_cost(self, y: np.ndarray, outputs: np.ndarray, weights: np.ndarray) -> float:\n",
    "        cost = np.sum(-y * np.log(outputs) - (1 - y) * np.log(1 - outputs))\n",
    "        for w in weights:\n",
    "            cost += self.lambda_ * np.sum(w[:,1:] ** 2) / 2\n",
    "        return cost / y.shape[0]\n",
    "    def predict(self, _X: np.ndarray):\n",
    "        units = [_X.T]\n",
    "        for layer in range(len(self.layers)-1):\n",
    "            units.append(sigmoid(np.matmul(self.weights[layer], self._add_bias_units(units[-1]))))\n",
    "        return np.argmax(units[-1], axis=0)\n",
    "    def fit(self, _X: np.ndarray, _Y: np.ndarray, print_progress: bool=True):\n",
    "        assert(_X.shape[0]==_Y.shape[0])\n",
    "        num = _Y.shape[0]\n",
    "        X_data, Y_data = _X.copy(), self._get_encoded_label(_Y)\n",
    "        eta_ = self.eta_\n",
    "        delta_weight_prev = [0] * len(self.layers)\n",
    "        for epoch in range(self.epochs):\n",
    "            deltas = []\n",
    "            for i in range(len(self.layers)-1):\n",
    "                deltas.append(np.zeros(self.weights[i].shape))\n",
    "            eta_ /= 1 + self.decrease_const * epoch\n",
    "            if print_progress:\n",
    "                os.sys.stderr.write('\\rEpoch: %d/%d' %(epoch+1, self.epochs))\n",
    "                os.sys.stderr.flush()\n",
    "            if self.shuffle:\n",
    "                idx = np.random.permutation(num)\n",
    "                X_data, Y_data = X_data[idx], Y_data[idx]\n",
    "            mini = np.array_split(range(_Y.shape[0]), self.minibatches)\n",
    "            for idx in mini:\n",
    "                x, y = X_data[idx], Y_data[idx]\n",
    "                units = [x.T]\n",
    "                # Perform forward propagation\n",
    "                for layer in range(len(self.layers)-1):\n",
    "                    units.append(sigmoid(np.matmul(self.weights[layer], self._add_bias_units(units[-1]))))\n",
    "                # Update Cost\n",
    "                self.cost_.append(self._get_cost(y.T, units[-1], self.weights) / len(mini))\n",
    "                # Perform back propagation\n",
    "                delta = units[-1] - y.T\n",
    "                for i in range(len(self.layers)-2, 0, -1):\n",
    "                    a = self._add_bias_units(units[i])\n",
    "                    deltas[i][:,:] = deltas[i] + np.matmul(delta, a.T)\n",
    "                    delta = (np.matmul(self.weights[i].T, delta) * (a * (1 - a)))[1:,:]\n",
    "                a = self._add_bias_units(units[0])\n",
    "                deltas[0][:,:] = deltas[0] + np.matmul(delta, a.T)\n",
    "                # Update Weights\n",
    "                for i, delta, theta in zip(range(len(deltas)), deltas, self.weights):\n",
    "                    temp = self.lambda_ * theta\n",
    "                    temp[0,:] = 0\n",
    "                    grad = delta / len(mini) + temp\n",
    "                    delta_cur = eta_ * grad\n",
    "                    self.weights[i] -= delta_cur + self.alpha_ * delta_weight_prev[i]\n",
    "                    delta_weight_prev[i] = delta_cur\n",
    "        return self"
   ]
  },
  {
   "cell_type": "code",
   "execution_count": 5,
   "metadata": {},
   "outputs": [
    {
     "name": "stderr",
     "output_type": "stream",
     "text": [
      "Epoch: 1/1000C:\\Users\\user1\\AppData\\Local\\Temp\\ipykernel_5904\\2338197137.py:2: RuntimeWarning: overflow encountered in exp\n",
      "  return 1/(1+np.exp(-x))\n",
      "Epoch: 1000/1000"
     ]
    },
    {
     "data": {
      "text/plain": [
       "<__main__.Model at 0x2d83dccb490>"
      ]
     },
     "execution_count": 5,
     "metadata": {},
     "output_type": "execute_result"
    }
   ],
   "source": [
    "model = Model(n_outputs=10, n_features=X_train.shape[1], n_hiddenlayers=[50], lambda_=0.1, epochs=1000, minibatches=50, random_state=1)\n",
    "model.fit(X_train, y_train)\n"
   ]
  },
  {
   "cell_type": "code",
   "execution_count": 6,
   "metadata": {},
   "outputs": [
    {
     "name": "stdout",
     "output_type": "stream",
     "text": [
      "saved data\n"
     ]
    }
   ],
   "source": [
    "with open('model_digits.pkl', 'wb') as f:\n",
    "    pickle.dump(model, f, protocol=4)\n",
    "print('saved data')"
   ]
  },
  {
   "cell_type": "code",
   "execution_count": 7,
   "metadata": {},
   "outputs": [
    {
     "name": "stdout",
     "output_type": "stream",
     "text": [
      "loaded data\n"
     ]
    }
   ],
   "source": [
    "with open('model_digits.pkl', 'rb') as f:\n",
    "    model = pickle.load(f)\n",
    "print('loaded data')"
   ]
  },
  {
   "cell_type": "code",
   "execution_count": 8,
   "metadata": {},
   "outputs": [
    {
     "data": {
      "image/png": "[encoded data removed]",
      "text/plain": [
       "<Figure size 432x288 with 1 Axes>"
      ]
     },
     "metadata": {
      "needs_background": "light"
     },
     "output_type": "display_data"
    }
   ],
   "source": [
    "\n",
    "plt.plot(range(len(model.cost_)), model.cost_)\n",
    "plt.ylabel('J(w)')\n",
    "plt.xlabel('Epochs * 50')\n",
    "plt.tight_layout()\n",
    "plt.show()"
   ]
  },
  {
   "cell_type": "code",
   "execution_count": 9,
   "metadata": {},
   "outputs": [
    {
     "name": "stdout",
     "output_type": "stream",
     "text": [
      "success/total: [57624]/[60000]\n",
      "accuracy: 96.04%\n",
      "success/total: [9433]/[10000]\n",
      "accuracy: 94.33%\n"
     ]
    },
    {
     "name": "stderr",
     "output_type": "stream",
     "text": [
      "C:\\Users\\user1\\AppData\\Local\\Temp\\ipykernel_5904\\2338197137.py:2: RuntimeWarning: overflow encountered in exp\n",
      "  return 1/(1+np.exp(-x))\n"
     ]
    }
   ],
   "source": [
    "y_train_pred = model.predict(X_train)\n",
    "success = np.sum(y_train == y_train_pred, axis=0)\n",
    "total = X_train.shape[0]\n",
    "accuracy = success/total\n",
    "print('success/total: [%d]/[%d]' %(success, total))\n",
    "print('accuracy: %.2f%%' %(accuracy*100))\n",
    "\n",
    "y_test_pred = model.predict(X_test)\n",
    "success = np.sum(y_test == y_test_pred, axis=0)\n",
    "total = X_test.shape[0]\n",
    "accuracy = success/total\n",
    "print('success/total: [%d]/[%d]' %(success, total))\n",
    "print('accuracy: %.2f%%' %(accuracy*100))\n"
   ]
  }
 ],
 "metadata": {
  "kernelspec": {
   "display_name": "Python 3.8.10 64-bit",
   "language": "python",
   "name": "python3"
  },
  "language_info": {
   "codemirror_mode": {
    "name": "ipython",
    "version": 3
   },
   "file_extension": ".py",
   "mimetype": "text/x-python",
   "name": "python",
   "nbconvert_exporter": "python",
   "pygments_lexer": "ipython3",
   "version": "3.8.10"
  },
  "orig_nbformat": 4,
  "vscode": {
   "interpreter": {
    "hash": "a91c0fb410c99068c92e1341426007a488cfa896a95f360ba785355c9f32c6bd"
   }
  }
 },
 "nbformat": 4,
 "nbformat_minor": 2
}
